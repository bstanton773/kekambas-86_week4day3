{
 "cells": [
  {
   "cell_type": "markdown",
   "metadata": {},
   "source": [
    "# Classic Algorithms"
   ]
  },
  {
   "cell_type": "markdown",
   "metadata": {},
   "source": [
    "## Tasks Today:\n",
    " \n",
    "1) <b>In-Place Algorithms</b> <br>\n",
    " &nbsp;&nbsp;&nbsp;&nbsp; a) Syntax <br>\n",
    " &nbsp;&nbsp;&nbsp;&nbsp; a) Out of Place Algorithm <br>\n",
    " &nbsp;&nbsp;&nbsp;&nbsp; b) In-Class Exercise #1 <br>\n",
    "2) <b>Two Pointers</b> <br>\n",
    "3) <b>Sorting Algorithms</b> <br>\n",
    "4) <b>Merge Sort</b> <br>\n",
    " &nbsp;&nbsp;&nbsp;&nbsp; a) Video on Algorithms <br>\n",
    " &nbsp;&nbsp;&nbsp;&nbsp; b) How it Works <br>\n",
    "5) <b>Exercises</b> <br>\n",
    " &nbsp;&nbsp;&nbsp;&nbsp; a) Exercise #1 - Reverse a List in Place Using an In-Place Algorithm <br>\n",
    " &nbsp;&nbsp;&nbsp;&nbsp; b) Exercise #2 - Find Distinct Words <br>\n",
    " &nbsp;&nbsp;&nbsp;&nbsp; c) Exercise #3 - Write a program to implement a Linear Search Algorithm. <br>"
   ]
  },
  {
   "cell_type": "markdown",
   "metadata": {},
   "source": [
    "## In-Place Algorithms"
   ]
  },
  {
   "cell_type": "markdown",
   "metadata": {},
   "source": [
    "#### Syntax"
   ]
  },
  {
   "cell_type": "code",
   "execution_count": 19,
   "metadata": {},
   "outputs": [],
   "source": [
    "my_list = [1, 2, 3, 4, 5, 6]"
   ]
  },
  {
   "cell_type": "code",
   "execution_count": 20,
   "metadata": {},
   "outputs": [
    {
     "data": {
      "text/plain": [
       "[1, 5, 3, 4, 2, 6]"
      ]
     },
     "execution_count": 20,
     "metadata": {},
     "output_type": "execute_result"
    }
   ],
   "source": [
    "def swap(a_list, index1, index2):\n",
    "    temp = a_list[index1]\n",
    "    a_list[index1] = a_list[index2]\n",
    "    a_list[index2] = temp\n",
    "    return a_list\n",
    "\n",
    "\n",
    "swap(my_list, 1, 4)"
   ]
  },
  {
   "cell_type": "code",
   "execution_count": 5,
   "metadata": {},
   "outputs": [
    {
     "name": "stdout",
     "output_type": "stream",
     "text": [
      "Before: [1, 2, 3, 4, 5, 6]\n",
      "After: [1, 5, 3, 4, 2, 6]\n"
     ]
    }
   ],
   "source": [
    "# a_list[a], a_list[b] = a_list[b], a_list[a]\n",
    "my_list = [1, 2, 3, 4, 5, 6]\n",
    "def swap(a_list, index1, index2):\n",
    "    a_list[index1], a_list[index2] = a_list[index2], a_list[index1]\n",
    "    return a_list\n",
    "\n",
    "print('Before:', my_list)\n",
    "swap(my_list, 1, 4)\n",
    "print('After:', my_list)"
   ]
  },
  {
   "cell_type": "code",
   "execution_count": 6,
   "metadata": {},
   "outputs": [
    {
     "name": "stdout",
     "output_type": "stream",
     "text": [
      "[1, 5, 3, 4, 2, 6]\n"
     ]
    }
   ],
   "source": [
    "print(my_list)"
   ]
  },
  {
   "cell_type": "markdown",
   "metadata": {},
   "source": [
    "#### Out of Place Algorithm"
   ]
  },
  {
   "cell_type": "code",
   "execution_count": 9,
   "metadata": {},
   "outputs": [
    {
     "name": "stdout",
     "output_type": "stream",
     "text": [
      "Before: [1, 2, 3, 4, 5, 6]\n",
      "After: [1, 2, 3, 4, 5, 6]\n",
      "My New List: [1, 5, 3, 4, 2, 6]\n"
     ]
    }
   ],
   "source": [
    "\n",
    "def out_of_place_swap(a_list, index1, index2):\n",
    "    new_list = a_list[:]\n",
    "    new_list[index1] = a_list[index2]\n",
    "    new_list[index2] = a_list[index1]\n",
    "    return new_list\n",
    "\n",
    "\n",
    "my_list = [1, 2, 3, 4, 5, 6]\n",
    "\n",
    "print('Before:', my_list)\n",
    "my_new_list = out_of_place_swap(my_list, 1, 4)\n",
    "print('After:', my_list)\n",
    "print('My New List:', my_new_list)"
   ]
  },
  {
   "cell_type": "code",
   "execution_count": 10,
   "metadata": {},
   "outputs": [
    {
     "name": "stdout",
     "output_type": "stream",
     "text": [
      "Before [3, 8, 23, 6, 1, 6, 2]\n",
      "After [1, 2, 3, 6, 6, 8, 23]\n"
     ]
    }
   ],
   "source": [
    "unsorted_list = [3, 8, 23, 6, 1, 6, 2]\n",
    "\n",
    "print('Before', unsorted_list)\n",
    "unsorted_list.sort()\n",
    "print('After', unsorted_list)"
   ]
  },
  {
   "cell_type": "code",
   "execution_count": 12,
   "metadata": {},
   "outputs": [
    {
     "name": "stdout",
     "output_type": "stream",
     "text": [
      "Before [3, 8, 23, 6, 1, 6, 2]\n",
      "After [3, 8, 23, 6, 1, 6, 2]\n",
      "[1, 2, 3, 6, 6, 8, 23]\n"
     ]
    }
   ],
   "source": [
    "unsorted_list = [3, 8, 23, 6, 1, 6, 2]\n",
    "\n",
    "print('Before', unsorted_list)\n",
    "sorted_list = sorted(unsorted_list)\n",
    "print('After', unsorted_list)\n",
    "print(sorted_list)"
   ]
  },
  {
   "cell_type": "markdown",
   "metadata": {},
   "source": [
    "#### In-Class Exercise #1 <br>\n",
    "<p>Write a function that takes in four arguments (list, index1, index2, index3), and swaps those three positions in the list passed in.</p>"
   ]
  },
  {
   "cell_type": "code",
   "execution_count": 14,
   "metadata": {},
   "outputs": [
    {
     "name": "stdout",
     "output_type": "stream",
     "text": [
      "[3, 10, 4, 8, 4, 2, 6]\n"
     ]
    }
   ],
   "source": [
    "l_1 = [10, 4, 3, 8, 4, 2, 6]\n",
    "\n",
    "def swap_list(a_list, a, b, c):\n",
    "    a_list[a], a_list[b], a_list[c] = a_list[c], a_list[a], a_list[b]\n",
    "    \n",
    "\n",
    "\n",
    "\n",
    "swap_list(l_1, 0,1,2)\n",
    "print(l_1)"
   ]
  },
  {
   "cell_type": "code",
   "execution_count": 27,
   "metadata": {},
   "outputs": [
    {
     "name": "stdout",
     "output_type": "stream",
     "text": [
      "['Jr.', 'Stanton', 'Patrick', 'Brian']\n"
     ]
    }
   ],
   "source": [
    "# Reverse a list in place\n",
    "\n",
    "def reverse_list(a_list, a, b, c, d):\n",
    "    a_list[a], a_list[b], a_list[c], a_list[d] = a_list[d],a_list[c], a_list[b], a_list[a]\n",
    "    \n",
    "    \n",
    "names = ['Brian', 'Patrick', 'Stanton', 'Jr.']\n",
    "reverse_list(names, 0,1,2,3)\n",
    "print(names)"
   ]
  },
  {
   "cell_type": "markdown",
   "metadata": {},
   "source": [
    "## Two Pointers"
   ]
  },
  {
   "cell_type": "markdown",
   "metadata": {},
   "source": [
    "#### Syntax"
   ]
  },
  {
   "cell_type": "code",
   "execution_count": 28,
   "metadata": {},
   "outputs": [
    {
     "data": {
      "text/plain": [
       "[10, 9, 8, 7, 6, 5, 4, 3, 2, 1]"
      ]
     },
     "execution_count": 28,
     "metadata": {},
     "output_type": "execute_result"
    }
   ],
   "source": [
    "def swap_with_pointers(a_list):\n",
    "    # Create two variables to point to the index we are wanting to swap\n",
    "    left = 0 # first element in the list\n",
    "    right = len(a_list) - 1 # last element in the list\n",
    "    while left < right:\n",
    "        a_list[left], a_list[right] = a_list[right], a_list[left]\n",
    "        left += 1\n",
    "        right -= 1\n",
    "    return a_list\n",
    "\n",
    "\n",
    "my_list2 = [1, 2, 3, 4, 5, 6, 7, 8, 9, 10]\n",
    "\n",
    "swap_with_pointers(my_list2)"
   ]
  },
  {
   "cell_type": "code",
   "execution_count": 29,
   "metadata": {},
   "outputs": [
    {
     "name": "stdout",
     "output_type": "stream",
     "text": [
      "[10, 9, 8, 7, 6, 5, 4, 3, 2, 1]\n"
     ]
    }
   ],
   "source": [
    "print(my_list2)"
   ]
  },
  {
   "cell_type": "markdown",
   "metadata": {},
   "source": [
    "#### Video of Algorithms <br>\n",
    "<p>Watch the video about algorithms.</p>\n",
    "\n",
    "https://www.youtube.com/watch?v=Q9HjeFD62Uk\n",
    "\n",
    "https://www.youtube.com/watch?v=kPRA0W1kECg\n",
    "\n",
    "https://www.youtube.com/watch?v=ZZuD6iUe3Pc"
   ]
  },
  {
   "cell_type": "markdown",
   "metadata": {},
   "source": [
    "# Sorting Algorithms"
   ]
  },
  {
   "cell_type": "code",
   "execution_count": 52,
   "metadata": {},
   "outputs": [
    {
     "name": "stdout",
     "output_type": "stream",
     "text": [
      "[29, 64, 84, 26, 14, 84, 74, 21, 29, 71]\n"
     ]
    }
   ],
   "source": [
    "import random\n",
    "\n",
    "list_to_sort = [random.randint(1,100) for _ in range(10)]\n",
    "print(list_to_sort)"
   ]
  },
  {
   "cell_type": "markdown",
   "metadata": {},
   "source": [
    "#### Bubble Sort\n",
    "\n",
    "Worst Case: O(n^2) Time - O(1) Space"
   ]
  },
  {
   "cell_type": "code",
   "execution_count": 60,
   "metadata": {},
   "outputs": [
    {
     "data": {
      "text/plain": [
       "[14, 21, 26, 29, 29, 64, 71, 74, 84, 84]"
      ]
     },
     "execution_count": 60,
     "metadata": {},
     "output_type": "execute_result"
    }
   ],
   "source": [
    "def bubble_sort(lst):\n",
    "    # When we first start, assume the list is unsorted\n",
    "    is_sorted = False\n",
    "    # while the list is unsorted, loop through and bubble largest to top\n",
    "    while not is_sorted:\n",
    "        # Begin the for loop with the assumption that the list is sorted\n",
    "        is_sorted = True\n",
    "        for idx in range(len(lst) - 1):\n",
    "            # if the list at index idx is greater than the value to its right\n",
    "             if lst[idx] > lst[idx+1]:\n",
    "                # swap those two values\n",
    "                lst[idx], lst[idx+1] = lst[idx+1], lst[idx]\n",
    "                # if we have to to any swaps, say that our list is actually not sorted\n",
    "                is_sorted = False\n",
    "        \n",
    "    return lst\n",
    "        \n",
    "bubble_sort(list_to_sort)"
   ]
  },
  {
   "cell_type": "code",
   "execution_count": null,
   "metadata": {},
   "outputs": [],
   "source": [
    "[1, 2, 4, 3]"
   ]
  },
  {
   "cell_type": "markdown",
   "metadata": {},
   "source": [
    "##### Insertion Sort\n",
    "\n",
    "Worst Case: O(n^2) time - O(1)space"
   ]
  },
  {
   "cell_type": "code",
   "execution_count": null,
   "metadata": {},
   "outputs": [],
   "source": []
  },
  {
   "cell_type": "markdown",
   "metadata": {},
   "source": [
    "## Merge Sort"
   ]
  },
  {
   "cell_type": "markdown",
   "metadata": {},
   "source": [
    "#### How it Works"
   ]
  },
  {
   "cell_type": "code",
   "execution_count": null,
   "metadata": {},
   "outputs": [],
   "source": []
  },
  {
   "cell_type": "markdown",
   "metadata": {},
   "source": [
    "# Binary Search\n",
    "\n",
    "The Binary Search algorithm works by finding the number in the middle of a given array and comparing it to the target. Given that the array is sorted\n",
    "\n",
    "* The worst case run time for this algorithm is `O(log(n))`"
   ]
  },
  {
   "cell_type": "code",
   "execution_count": null,
   "metadata": {},
   "outputs": [],
   "source": []
  },
  {
   "cell_type": "markdown",
   "metadata": {},
   "source": [
    "# Exercises"
   ]
  },
  {
   "cell_type": "markdown",
   "metadata": {},
   "source": [
    "### Exercise #1 <br>\n",
    "<p>Reverse the list below in-place using an in-place algorithm.<br>For extra credit: Reverse the strings at the same time.</p>"
   ]
  },
  {
   "cell_type": "code",
   "execution_count": null,
   "metadata": {},
   "outputs": [],
   "source": [
    "words = ['this' , 'is', 'a', 'sentence', '.']\n"
   ]
  },
  {
   "cell_type": "markdown",
   "metadata": {},
   "source": [
    "### Exercise #2 <br>\n",
    "<p>Create a function that counts how many distinct words are in the string below, then outputs a dictionary with the words as the key and the value as the amount of times that word appears in the string.<br>Should output:<br>{'a': 5,<br>\n",
    " 'abstract': 1,<br>\n",
    " 'an': 3,<br>\n",
    " 'array': 2, ... etc...</p>"
   ]
  },
  {
   "cell_type": "code",
   "execution_count": null,
   "metadata": {},
   "outputs": [],
   "source": [
    "a_text = 'In computing, a hash table hash map is a data structure which implements an associative array abstract data type, a structure that can map keys to values. A hash table uses a hash function to compute an index into an array of buckets or slots from which the desired value can be found'\n",
    "\n"
   ]
  },
  {
   "cell_type": "markdown",
   "metadata": {},
   "source": [
    "## Exercise #3\n",
    "\n",
    "Write a program to implement a Linear Search Algorithm. Also in a comment, write the Time Complexity of the following algorithm.\n",
    "\n",
    "#### Hint: Linear Searching will require searching a list for a given number. "
   ]
  },
  {
   "cell_type": "code",
   "execution_count": null,
   "metadata": {},
   "outputs": [],
   "source": []
  }
 ],
 "metadata": {
  "kernelspec": {
   "display_name": "Python 3",
   "language": "python",
   "name": "python3"
  },
  "language_info": {
   "codemirror_mode": {
    "name": "ipython",
    "version": 3
   },
   "file_extension": ".py",
   "mimetype": "text/x-python",
   "name": "python",
   "nbconvert_exporter": "python",
   "pygments_lexer": "ipython3",
   "version": "3.8.5"
  }
 },
 "nbformat": 4,
 "nbformat_minor": 2
}
