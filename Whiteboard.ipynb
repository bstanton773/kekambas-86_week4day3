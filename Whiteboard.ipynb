{
 "cells": [
  {
   "cell_type": "code",
   "execution_count": 1,
   "metadata": {},
   "outputs": [],
   "source": [
    "# Complete the solution so that the function will break up camel casing, using a space between words.\n",
    "\n",
    "# \"camelCasing\"  =>  \"camel Casing\"\n",
    "# \"identifier\"   =>  \"identifier\"\n",
    "# \"\"             =>  \"\""
   ]
  },
  {
   "cell_type": "code",
   "execution_count": 4,
   "metadata": {},
   "outputs": [
    {
     "data": {
      "text/plain": [
       "'camel Casing'"
      ]
     },
     "execution_count": 4,
     "metadata": {},
     "output_type": "execute_result"
    }
   ],
   "source": [
    "def uncamel(string):\n",
    "    output = ''\n",
    "    for letter in string:\n",
    "        if letter.isupper():\n",
    "            output += ' '\n",
    "        output += letter\n",
    "    return output\n",
    "\n",
    "\n",
    "uncamel('camelCasing')"
   ]
  },
  {
   "cell_type": "code",
   "execution_count": 7,
   "metadata": {},
   "outputs": [
    {
     "data": {
      "text/plain": [
       "'hello World How Are You Today'"
      ]
     },
     "execution_count": 7,
     "metadata": {},
     "output_type": "execute_result"
    }
   ],
   "source": [
    "uncamel('helloWorldHowAreYouToday')"
   ]
  },
  {
   "cell_type": "code",
   "execution_count": 8,
   "metadata": {},
   "outputs": [
    {
     "data": {
      "text/plain": [
       "'hello My Name Is Brian Today Is Wednesday'"
      ]
     },
     "execution_count": 8,
     "metadata": {},
     "output_type": "execute_result"
    }
   ],
   "source": [
    "import re\n",
    "\n",
    "def uncamel_re(string):\n",
    "    capital = re.compile('[A-Z]')\n",
    "    output_string = ''\n",
    "    for letter in string:\n",
    "        if capital.match(letter):\n",
    "            output_string += ' '\n",
    "        output_string += letter\n",
    "    return output_string\n",
    "\n",
    "\n",
    "uncamel_re('helloMyNameIsBrianTodayIsWednesday')"
   ]
  },
  {
   "cell_type": "code",
   "execution_count": 9,
   "metadata": {},
   "outputs": [
    {
     "data": {
      "text/plain": [
       "['hello', 'y', 'ame', 's', 'rian', 'oday', 's', 'ednesday']"
      ]
     },
     "execution_count": 9,
     "metadata": {},
     "output_type": "execute_result"
    }
   ],
   "source": [
    "def uncamel_re(string):\n",
    "    capital = re.compile('[A-Z]')\n",
    "    return capital.split(string)\n",
    "\n",
    "uncamel_re('helloMyNameIsBrianTodayIsWednesday')"
   ]
  },
  {
   "cell_type": "code",
   "execution_count": 15,
   "metadata": {},
   "outputs": [
    {
     "data": {
      "text/plain": [
       "'hello My Name Is Brian Today Is Wednesday'"
      ]
     },
     "execution_count": 15,
     "metadata": {},
     "output_type": "execute_result"
    }
   ],
   "source": [
    "def uncamel(string):\n",
    "\n",
    "    \n",
    "    return ''.join(map(lambda letter: letter if letter.islower() else f' {letter}', string))\n",
    "\n",
    "uncamel('helloMyNameIsBrianTodayIsWednesday')"
   ]
  },
  {
   "cell_type": "code",
   "execution_count": 12,
   "metadata": {},
   "outputs": [
    {
     "name": "stdout",
     "output_type": "stream",
     "text": [
      "Help on method_descriptor:\n",
      "\n",
      "join(self, iterable, /)\n",
      "    Concatenate any number of strings.\n",
      "    \n",
      "    The string whose method is called is inserted in between each given string.\n",
      "    The result is returned as a new string.\n",
      "    \n",
      "    Example: '.'.join(['ab', 'pq', 'rs']) -> 'ab.pq.rs'\n",
      "\n"
     ]
    }
   ],
   "source": [
    "help(str.join)"
   ]
  },
  {
   "cell_type": "code",
   "execution_count": null,
   "metadata": {},
   "outputs": [],
   "source": [
    "def cam_crush(camel):\n",
    "    return ''.join([(\" \" + char) if char.isupper() else char for char in camel])\n",
    "    \n",
    "cam_crush(\"camelCasing\")"
   ]
  }
 ],
 "metadata": {
  "kernelspec": {
   "display_name": "Python 3",
   "language": "python",
   "name": "python3"
  },
  "language_info": {
   "codemirror_mode": {
    "name": "ipython",
    "version": 3
   },
   "file_extension": ".py",
   "mimetype": "text/x-python",
   "name": "python",
   "nbconvert_exporter": "python",
   "pygments_lexer": "ipython3",
   "version": "3.8.5"
  }
 },
 "nbformat": 4,
 "nbformat_minor": 4
}
